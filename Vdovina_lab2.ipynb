{
  "nbformat": 4,
  "nbformat_minor": 0,
  "metadata": {
    "colab": {
      "name": "Vdovina_lab2.ipynb",
      "provenance": [],
      "collapsed_sections": [],
      "authorship_tag": "ABX9TyOy3uDQapCGR1aCtac3JkRb",
      "include_colab_link": true
    },
    "kernelspec": {
      "name": "python3",
      "display_name": "Python 3"
    }
  },
  "cells": [
    {
      "cell_type": "markdown",
      "metadata": {
        "id": "view-in-github",
        "colab_type": "text"
      },
      "source": [
        "<a href=\"https://colab.research.google.com/github/linlills/NeuralNetworks/blob/main/Vdovina_lab2.ipynb\" target=\"_parent\"><img src=\"https://colab.research.google.com/assets/colab-badge.svg\" alt=\"Open In Colab\"/></a>"
      ]
    },
    {
      "cell_type": "code",
      "metadata": {
        "id": "28SHXP5rL0IB",
        "outputId": "6b0bb0bd-d467-4e26-a310-9d8af3279301",
        "colab": {
          "base_uri": "https://localhost:8080/",
          "height": 52
        }
      },
      "source": [
        "# загрузка данных\n",
        "from keras.datasets import reuters\n",
        "(train_data, train_labels), (test_data, test_labels) = reuters.load_data(num_words=10000)\n",
        "import numpy as np\n",
        "\n",
        "# векторизация данных\n",
        "def vectorize_sequences(sequences, dimension=10000):\n",
        " results = np.zeros((len(sequences), dimension))\n",
        " for i, sequence in enumerate(sequences):\n",
        "  results[i,sequence] = 1.\n",
        " return results\n",
        "\n",
        "x_train=vectorize_sequences(train_data)\n",
        "x_test=vectorize_sequences(train_labels)\n",
        "\n",
        "# векторизация меток\n",
        "from keras.utils.np_utils import to_categorical\n",
        "one_hot_train_labels = to_categorical(train_labels)\n",
        "one_hot_test_labels = to_categorical(test_labels) \n"
      ],
      "execution_count": null,
      "outputs": [
        {
          "output_type": "stream",
          "text": [
            "Downloading data from https://storage.googleapis.com/tensorflow/tf-keras-datasets/reuters.npz\n",
            "2113536/2110848 [==============================] - 0s 0us/step\n"
          ],
          "name": "stdout"
        }
      ]
    },
    {
      "cell_type": "code",
      "metadata": {
        "id": "zzmPiyd3vU1s",
        "outputId": "f8e422cb-cb74-4c7e-e9e7-532374c28710",
        "colab": {
          "base_uri": "https://localhost:8080/",
          "height": 1000
        }
      },
      "source": [
        "from keras import models\n",
        "from keras import layers\n",
        "from keras.layers import Dropout\n",
        "\n",
        "model = models.Sequential()\n",
        "model.add(layers.Dense(100, activation='relu', input_shape=(10000,)))\n",
        "model.add(Dropout(0.5))\n",
        "model.add(layers.Dense(64, activation='relu'))\n",
        "model.add(Dropout(0.5))\n",
        "model.add(layers.Dense(46, activation='softmax')) #для каждого входного образца сеть будет выводить 46-мерный вектор\n",
        "\n",
        "model.compile(optimizer='rmsprop', loss='categorical_crossentropy', metrics=['accuracy']) # функция потерь определяет расстояние между распределениями вероятностей на выходе сети и истинным распределением меток\n",
        "\n",
        "# создание проверочного набора для 1000 образцов из обучающей выборки\n",
        "x_val = x_train[:1000]\n",
        "partial_x_train = x_train[1000:]\n",
        "y_val = one_hot_train_labels[:1000]\n",
        "partial_y_train = one_hot_train_labels[1000:]\n",
        "\n",
        "# обучение модели в течение 35 эпох\n",
        "history = model.fit(partial_x_train, partial_y_train, epochs=35, batch_size=512, validation_data=(x_val, y_val))\n",
        "\n",
        "# графики потерь на этапах обучения и проверки\n",
        "import matplotlib.pyplot as plt\n",
        "loss = history.history['loss']\n",
        "val_loss = history.history['val_loss']\n",
        "epochs = range(1, len(loss) + 1)\n",
        "plt.plot(epochs, loss, 'bo', label='Training loss')\n",
        "plt.plot(epochs, val_loss, 'b', label='Validation loss',c='red')\n",
        "plt.title('Training and validation loss')\n",
        "plt.xlabel('Epochs')\n",
        "plt.ylabel('Loss')\n",
        "plt.legend()\n",
        "plt.show()\n",
        "\n"
      ],
      "execution_count": null,
      "outputs": [
        {
          "output_type": "stream",
          "text": [
            "Epoch 1/35\n",
            "16/16 [==============================] - 1s 77ms/step - loss: 2.8995 - accuracy: 0.3826 - val_loss: 1.8867 - val_accuracy: 0.6000\n",
            "Epoch 2/35\n",
            "16/16 [==============================] - 1s 64ms/step - loss: 1.8887 - accuracy: 0.5734 - val_loss: 1.4724 - val_accuracy: 0.6590\n",
            "Epoch 3/35\n",
            "16/16 [==============================] - 1s 64ms/step - loss: 1.5725 - accuracy: 0.6388 - val_loss: 1.3136 - val_accuracy: 0.7070\n",
            "Epoch 4/35\n",
            "16/16 [==============================] - 1s 64ms/step - loss: 1.3975 - accuracy: 0.6789 - val_loss: 1.2277 - val_accuracy: 0.7200\n",
            "Epoch 5/35\n",
            "16/16 [==============================] - 1s 65ms/step - loss: 1.2581 - accuracy: 0.7068 - val_loss: 1.1585 - val_accuracy: 0.7410\n",
            "Epoch 6/35\n",
            "16/16 [==============================] - 1s 64ms/step - loss: 1.1520 - accuracy: 0.7263 - val_loss: 1.1109 - val_accuracy: 0.7580\n",
            "Epoch 7/35\n",
            "16/16 [==============================] - 1s 64ms/step - loss: 1.0710 - accuracy: 0.7461 - val_loss: 1.0707 - val_accuracy: 0.7810\n",
            "Epoch 8/35\n",
            "16/16 [==============================] - 1s 64ms/step - loss: 0.9705 - accuracy: 0.7692 - val_loss: 1.0357 - val_accuracy: 0.7790\n",
            "Epoch 9/35\n",
            "16/16 [==============================] - 1s 64ms/step - loss: 0.9222 - accuracy: 0.7829 - val_loss: 1.0088 - val_accuracy: 0.7910\n",
            "Epoch 10/35\n",
            "16/16 [==============================] - 1s 64ms/step - loss: 0.8598 - accuracy: 0.7954 - val_loss: 0.9883 - val_accuracy: 0.8030\n",
            "Epoch 11/35\n",
            "16/16 [==============================] - 1s 64ms/step - loss: 0.8039 - accuracy: 0.8054 - val_loss: 0.9755 - val_accuracy: 0.8030\n",
            "Epoch 12/35\n",
            "16/16 [==============================] - 1s 64ms/step - loss: 0.7417 - accuracy: 0.8254 - val_loss: 0.9749 - val_accuracy: 0.8070\n",
            "Epoch 13/35\n",
            "16/16 [==============================] - 1s 64ms/step - loss: 0.7084 - accuracy: 0.8299 - val_loss: 0.9542 - val_accuracy: 0.8160\n",
            "Epoch 14/35\n",
            "16/16 [==============================] - 1s 64ms/step - loss: 0.6696 - accuracy: 0.8353 - val_loss: 0.9653 - val_accuracy: 0.8130\n",
            "Epoch 15/35\n",
            "16/16 [==============================] - 1s 66ms/step - loss: 0.6351 - accuracy: 0.8413 - val_loss: 0.9651 - val_accuracy: 0.8190\n",
            "Epoch 16/35\n",
            "16/16 [==============================] - 1s 65ms/step - loss: 0.6094 - accuracy: 0.8507 - val_loss: 0.9636 - val_accuracy: 0.8190\n",
            "Epoch 17/35\n",
            "16/16 [==============================] - 1s 64ms/step - loss: 0.5791 - accuracy: 0.8571 - val_loss: 0.9704 - val_accuracy: 0.8170\n",
            "Epoch 18/35\n",
            "16/16 [==============================] - 1s 64ms/step - loss: 0.5464 - accuracy: 0.8637 - val_loss: 0.9620 - val_accuracy: 0.8190\n",
            "Epoch 19/35\n",
            "16/16 [==============================] - 1s 64ms/step - loss: 0.5241 - accuracy: 0.8682 - val_loss: 0.9777 - val_accuracy: 0.8190\n",
            "Epoch 20/35\n",
            "16/16 [==============================] - 1s 65ms/step - loss: 0.5014 - accuracy: 0.8722 - val_loss: 0.9814 - val_accuracy: 0.8150\n",
            "Epoch 21/35\n",
            "16/16 [==============================] - 1s 63ms/step - loss: 0.4797 - accuracy: 0.8794 - val_loss: 0.9855 - val_accuracy: 0.8190\n",
            "Epoch 22/35\n",
            "16/16 [==============================] - 1s 64ms/step - loss: 0.4597 - accuracy: 0.8849 - val_loss: 1.0192 - val_accuracy: 0.8180\n",
            "Epoch 23/35\n",
            "16/16 [==============================] - 1s 63ms/step - loss: 0.4339 - accuracy: 0.8831 - val_loss: 1.0241 - val_accuracy: 0.8170\n",
            "Epoch 24/35\n",
            "16/16 [==============================] - 1s 66ms/step - loss: 0.4222 - accuracy: 0.8889 - val_loss: 1.0561 - val_accuracy: 0.8180\n",
            "Epoch 25/35\n",
            "16/16 [==============================] - 1s 64ms/step - loss: 0.4020 - accuracy: 0.8945 - val_loss: 1.0449 - val_accuracy: 0.8200\n",
            "Epoch 26/35\n",
            "16/16 [==============================] - 1s 64ms/step - loss: 0.4054 - accuracy: 0.8936 - val_loss: 1.0673 - val_accuracy: 0.8150\n",
            "Epoch 27/35\n",
            "16/16 [==============================] - 1s 64ms/step - loss: 0.3803 - accuracy: 0.9008 - val_loss: 1.0858 - val_accuracy: 0.8190\n",
            "Epoch 28/35\n",
            "16/16 [==============================] - 1s 64ms/step - loss: 0.3726 - accuracy: 0.8981 - val_loss: 1.0812 - val_accuracy: 0.8180\n",
            "Epoch 29/35\n",
            "16/16 [==============================] - 1s 64ms/step - loss: 0.3602 - accuracy: 0.9013 - val_loss: 1.0699 - val_accuracy: 0.8170\n",
            "Epoch 30/35\n",
            "16/16 [==============================] - 1s 64ms/step - loss: 0.3477 - accuracy: 0.9088 - val_loss: 1.0895 - val_accuracy: 0.8210\n",
            "Epoch 31/35\n",
            "16/16 [==============================] - 1s 64ms/step - loss: 0.3530 - accuracy: 0.9075 - val_loss: 1.1068 - val_accuracy: 0.8200\n",
            "Epoch 32/35\n",
            "16/16 [==============================] - 1s 65ms/step - loss: 0.3357 - accuracy: 0.9073 - val_loss: 1.1337 - val_accuracy: 0.8210\n",
            "Epoch 33/35\n",
            "16/16 [==============================] - 1s 65ms/step - loss: 0.3257 - accuracy: 0.9102 - val_loss: 1.1544 - val_accuracy: 0.8180\n",
            "Epoch 34/35\n",
            "16/16 [==============================] - 1s 67ms/step - loss: 0.3175 - accuracy: 0.9141 - val_loss: 1.1434 - val_accuracy: 0.8250\n",
            "Epoch 35/35\n",
            "16/16 [==============================] - 1s 64ms/step - loss: 0.3023 - accuracy: 0.9142 - val_loss: 1.1746 - val_accuracy: 0.8230\n"
          ],
          "name": "stdout"
        },
        {
          "output_type": "display_data",
          "data": {
            "image/png": "[encoded data removed]",
            "text/plain": [
              "<Figure size 432x288 with 1 Axes>"
            ]
          },
          "metadata": {
            "tags": [],
            "needs_background": "light"
          }
        }
      ]
    },
    {
      "cell_type": "code",
      "metadata": {
        "id": "VrG4e3NRDZT2",
        "outputId": "3580dce1-3447-4ce3-e6c3-f3b0eec23800",
        "colab": {
          "base_uri": "https://localhost:8080/",
          "height": 295
        }
      },
      "source": [
        "# графики точности на этапах обучения\n",
        "epochs= range(1, len(loss) + 1)\n",
        "plt.plot(epochs, history.history['accuracy'], 'bo', label='Training acc')\n",
        "plt.plot(epochs, history.history['val_accuracy'], 'b', label='Validation acc', c='red')\n",
        "plt.title('Training and validation accuracy')\n",
        "plt.xlabel('epochs')\n",
        "plt.ylabel('accuracy')\n",
        "plt.legend()\n",
        "plt.show()"
      ],
      "execution_count": null,
      "outputs": [
        {
          "output_type": "display_data",
          "data": {
            "image/png": "[encoded data removed]",
            "text/plain": [
              "<Figure size 432x288 with 1 Axes>"
            ]
          },
          "metadata": {
            "tags": [],
            "needs_background": "light"
          }
        }
      ]
    }
  ]
}